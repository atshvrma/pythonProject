{
 "cells": [
  {
   "cell_type": "code",
   "execution_count": 11,
   "id": "adfd2641-6064-490e-95c9-7ad0de20faef",
   "metadata": {},
   "outputs": [
    {
     "ename": "ModuleNotFoundError",
     "evalue": "No module named 'ace_tools'",
     "output_type": "error",
     "traceback": [
      "\u001b[0;31m---------------------------------------------------------------------------\u001b[0m",
      "\u001b[0;31mModuleNotFoundError\u001b[0m                       Traceback (most recent call last)",
      "Cell \u001b[0;32mIn[11], line 67\u001b[0m\n\u001b[1;32m     46\u001b[0m \u001b[38;5;66;03m# Days until next birthday\u001b[39;00m\n\u001b[1;32m     47\u001b[0m \u001b[38;5;66;03m# today = pd.to_datetime('today')\u001b[39;00m\n\u001b[1;32m     48\u001b[0m \u001b[38;5;66;03m# df['next_birthday'] = df['birthdate'].apply(\u001b[39;00m\n\u001b[0;32m   (...)\u001b[0m\n\u001b[1;32m     55\u001b[0m \n\u001b[1;32m     56\u001b[0m \u001b[38;5;66;03m# Summary data\u001b[39;00m\n\u001b[1;32m     57\u001b[0m summary \u001b[38;5;241m=\u001b[39m {\n\u001b[1;32m     58\u001b[0m     \u001b[38;5;124m\"\u001b[39m\u001b[38;5;124mTop 5 Email Domains\u001b[39m\u001b[38;5;124m\"\u001b[39m: email_domain_counts\u001b[38;5;241m.\u001b[39mhead(),\n\u001b[1;32m     59\u001b[0m     \u001b[38;5;124m\"\u001b[39m\u001b[38;5;124mTime of Day Distribution\u001b[39m\u001b[38;5;124m\"\u001b[39m: time_of_day_counts,\n\u001b[0;32m   (...)\u001b[0m\n\u001b[1;32m     64\u001b[0m     \u001b[38;5;66;03m# \"Average Days Until Next Birthday\": df['days_until_birthday'].mean()\u001b[39;00m\n\u001b[1;32m     65\u001b[0m }\n\u001b[0;32m---> 67\u001b[0m \u001b[38;5;28;01mimport\u001b[39;00m\u001b[38;5;250m \u001b[39m\u001b[38;5;21;01mace_tools\u001b[39;00m\u001b[38;5;250m \u001b[39m\u001b[38;5;28;01mas\u001b[39;00m\u001b[38;5;250m \u001b[39m\u001b[38;5;21;01mtools\u001b[39;00m; \n\u001b[1;32m     68\u001b[0m tools\u001b[38;5;241m.\u001b[39mdisplay_dataframe_to_user(name\u001b[38;5;241m=\u001b[39m\u001b[38;5;124m\"\u001b[39m\u001b[38;5;124mTransformed Customer Sales Data\u001b[39m\u001b[38;5;124m\"\u001b[39m, dataframe\u001b[38;5;241m=\u001b[39mdf)\n\u001b[1;32m     70\u001b[0m summary\n",
      "\u001b[0;31mModuleNotFoundError\u001b[0m: No module named 'ace_tools'"
     ]
    }
   ],
   "source": []
  },
  {
   "cell_type": "code",
   "execution_count": 2,
   "id": "763b737d-0ca5-4839-8ed7-0cdac436ee06",
   "metadata": {},
   "outputs": [
    {
     "name": "stdout",
     "output_type": "stream",
     "text": [
      "Requirement already satisfied: ace-tools in /Users/atverma/.pyenv/versions/3.9.4/lib/python3.9/site-packages (0.0)\n",
      "Note: you may need to restart the kernel to use updated packages.\n"
     ]
    }
   ],
   "source": [
    "pip install ace-tools"
   ]
  },
  {
   "cell_type": "code",
   "execution_count": 2,
   "id": "292587c7-8526-4c9a-abd4-ce449006f1a9",
   "metadata": {},
   "outputs": [
    {
     "ename": "ModuleNotFoundError",
     "evalue": "No module named 'ace_tools'",
     "output_type": "error",
     "traceback": [
      "\u001b[0;31m---------------------------------------------------------------------------\u001b[0m",
      "\u001b[0;31mModuleNotFoundError\u001b[0m                       Traceback (most recent call last)",
      "Cell \u001b[0;32mIn[2], line 67\u001b[0m\n\u001b[1;32m     46\u001b[0m \u001b[38;5;66;03m# Days until next birthday\u001b[39;00m\n\u001b[1;32m     47\u001b[0m \u001b[38;5;66;03m# today = pd.to_datetime('today')\u001b[39;00m\n\u001b[1;32m     48\u001b[0m \u001b[38;5;66;03m# df['next_birthday'] = df['birthdate'].apply(\u001b[39;00m\n\u001b[0;32m   (...)\u001b[0m\n\u001b[1;32m     55\u001b[0m \n\u001b[1;32m     56\u001b[0m \u001b[38;5;66;03m# Summary data\u001b[39;00m\n\u001b[1;32m     57\u001b[0m summary \u001b[38;5;241m=\u001b[39m {\n\u001b[1;32m     58\u001b[0m     \u001b[38;5;124m\"\u001b[39m\u001b[38;5;124mTop 5 Email Domains\u001b[39m\u001b[38;5;124m\"\u001b[39m: email_domain_counts\u001b[38;5;241m.\u001b[39mhead(),\n\u001b[1;32m     59\u001b[0m     \u001b[38;5;124m\"\u001b[39m\u001b[38;5;124mTime of Day Distribution\u001b[39m\u001b[38;5;124m\"\u001b[39m: time_of_day_counts,\n\u001b[0;32m   (...)\u001b[0m\n\u001b[1;32m     64\u001b[0m     \u001b[38;5;66;03m# \"Average Days Until Next Birthday\": df['days_until_birthday'].mean()\u001b[39;00m\n\u001b[1;32m     65\u001b[0m }\n\u001b[0;32m---> 67\u001b[0m \u001b[38;5;28;01mimport\u001b[39;00m\u001b[38;5;250m \u001b[39m\u001b[38;5;21;01mace_tools\u001b[39;00m\u001b[38;5;250m \u001b[39m\u001b[38;5;28;01mas\u001b[39;00m\u001b[38;5;250m \u001b[39m\u001b[38;5;21;01mtools\u001b[39;00m; tools\u001b[38;5;241m.\u001b[39mdisplay_dataframe_to_user(name\u001b[38;5;241m=\u001b[39m\u001b[38;5;124m\"\u001b[39m\u001b[38;5;124mTransformed Customer Sales Data\u001b[39m\u001b[38;5;124m\"\u001b[39m, dataframe\u001b[38;5;241m=\u001b[39mdf)\n",
      "\u001b[0;31mModuleNotFoundError\u001b[0m: No module named 'ace_tools'"
     ]
    }
   ],
   "source": [
    "import pandas as pd\n",
    "\n",
    "# Load the generated CSV\n",
    "df = pd.read_csv(\"customer_sales_data.csv\", parse_dates=['signup_date', 'birthdate', 'last_purchase', 'order_date', 'timestamp'])\n",
    "\n",
    "df.head(5)\n",
    "\n",
    "# -------- STRING MANIPULATION INSIGHTS -------- #\n",
    "\n",
    "# Extract domain from email\n",
    "df['email_domain'] = df['email'].str.split('@').str[1]\n",
    "email_domain_counts = df['email_domain'].value_counts()\n",
    "\n",
    "# Clean product name\n",
    "df['clean_product_name'] = df['product_name'].str.replace(r'[^a-zA-Z0-9 ]', '', regex=True).str.strip().str.title()\n",
    "\n",
    "# Generate username\n",
    "df['username'] = df['name'].str.lower().str.replace(' ', '_')\n",
    "\n",
    "# -------- DATE MANIPULATION INSIGHTS -------- #\n",
    "\n",
    "# Add customer tenure in months\n",
    "df['tenure_months'] = (pd.Timestamp.now() - df['signup_date']) // pd.Timedelta(days=30)\n",
    "\n",
    "# Check if last purchase was on weekend\n",
    "df['last_purchase_weekend'] = df['last_purchase'].dt.weekday >= 5\n",
    "weekend_purchases = df['last_purchase_weekend'].value_counts()\n",
    "\n",
    "# Classify time of day from timestamp\n",
    "df['hour'] = df['timestamp'].dt.hour\n",
    "df['time_of_day'] = pd.cut(\n",
    "    df['hour'], bins=[0, 6, 12, 18, 24],\n",
    "    labels=['Night', 'Morning', 'Afternoon', 'Evening'], right=False\n",
    ")\n",
    "time_of_day_counts = df['time_of_day'].value_counts()\n",
    "\n",
    "# -------- FEATURE ENGINEERING INSIGHTS -------- #\n",
    "\n",
    "# High value customers\n",
    "df['is_high_value'] = df['total_spent'] > 5000\n",
    "high_value_ratio = df['is_high_value'].mean()\n",
    "\n",
    "# Average Order Value\n",
    "df['avg_order_value'] = df['total_spent'] / df['orders']\n",
    "\n",
    "# Days until next birthday\n",
    "# today = pd.to_datetime('today')\n",
    "# df['next_birthday'] = df['birthdate'].apply(\n",
    "#     lambda d: pd.Timestamp(year=today.year, month=d.month, day=d.day)\n",
    "# )\n",
    "# df['next_birthday'] = df['next_birthday'].apply(\n",
    "#     lambda d: d if d > today else pd.Timestamp(year=today.year + 1, month=d.month, day=d.day)\n",
    "# )\n",
    "# df['days_until_birthday'] = (df['next_birthday'] - today).dt.days\n",
    "\n",
    "# Summary data\n",
    "summary = {\n",
    "    \"Top 5 Email Domains\": email_domain_counts.head(),\n",
    "    \"Time of Day Distribution\": time_of_day_counts,\n",
    "    \"Weekend Purchases (True/False)\": weekend_purchases,\n",
    "    \"High Value Customer Ratio\": high_value_ratio,\n",
    "    \"Average of AOV\": df['avg_order_value'].mean(),\n",
    "    \"Average Tenure (months)\": df['tenure_months'].mean()\n",
    "    # \"Average Days Until Next Birthday\": df['days_until_birthday'].mean()\n",
    "}\n",
    "\n",
    "import ace_tools as tools; tools.display_dataframe_to_user(name=\"Transformed Customer Sales Data\", dataframe=df)\n",
    "\n",
    "\n",
    "\n"
   ]
  },
  {
   "cell_type": "code",
   "execution_count": null,
   "id": "601299fe-da03-46b0-ac0a-4a89fce7b8c9",
   "metadata": {},
   "outputs": [],
   "source": []
  }
 ],
 "metadata": {
  "kernelspec": {
   "display_name": "Python 3 (ipykernel)",
   "language": "python",
   "name": "python3"
  },
  "language_info": {
   "codemirror_mode": {
    "name": "ipython",
    "version": 3
   },
   "file_extension": ".py",
   "mimetype": "text/x-python",
   "name": "python",
   "nbconvert_exporter": "python",
   "pygments_lexer": "ipython3",
   "version": "3.9.4"
  }
 },
 "nbformat": 4,
 "nbformat_minor": 5
}
