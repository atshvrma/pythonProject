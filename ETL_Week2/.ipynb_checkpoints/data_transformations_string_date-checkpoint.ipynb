{
 "cells": [
  {
   "cell_type": "code",
   "execution_count": 2,
   "metadata": {},
   "outputs": [],
   "source": [
    "# Extract Email Domain\n",
    "import pandas as pd\n",
    "\n",
    "df = pd.DataFrame({'email':\n",
    "                   ['alice@gmail.com', 'bob@yahoo.com', 'carol@outlook.com']})\n",
    "df['domain'] = df['email'].str.split('@').str[1]"
   ]
  },
  {
   "cell_type": "code",
   "execution_count": 23,
   "metadata": {
    "scrolled": true
   },
   "outputs": [
    {
     "name": "stdout",
     "output_type": "stream",
     "text": [
      "DummyVal\n",
      "domain\n",
      "gmail.com      1\n",
      "yahoo.com      1\n",
      "outlook.com    1\n",
      "Name: count, dtype: int64\n"
     ]
    }
   ],
   "source": [
    "val_counts = df['domain'].value_counts()\n",
    "print('DummyVal')\n",
    "print(val_counts)"
   ]
  },
  {
   "cell_type": "code",
   "execution_count": 19,
   "metadata": {},
   "outputs": [
    {
     "data": {
      "text/html": [
       "<div>\n",
       "<style scoped>\n",
       "    .dataframe tbody tr th:only-of-type {\n",
       "        vertical-align: middle;\n",
       "    }\n",
       "\n",
       "    .dataframe tbody tr th {\n",
       "        vertical-align: top;\n",
       "    }\n",
       "\n",
       "    .dataframe thead th {\n",
       "        text-align: right;\n",
       "    }\n",
       "</style>\n",
       "<table border=\"1\" class=\"dataframe\">\n",
       "  <thead>\n",
       "    <tr style=\"text-align: right;\">\n",
       "      <th></th>\n",
       "      <th>email</th>\n",
       "      <th>domain</th>\n",
       "    </tr>\n",
       "  </thead>\n",
       "  <tbody>\n",
       "    <tr>\n",
       "      <th>0</th>\n",
       "      <td>alice@gmail.com</td>\n",
       "      <td>gmail.com</td>\n",
       "    </tr>\n",
       "    <tr>\n",
       "      <th>1</th>\n",
       "      <td>bob@yahoo.com</td>\n",
       "      <td>yahoo.com</td>\n",
       "    </tr>\n",
       "    <tr>\n",
       "      <th>2</th>\n",
       "      <td>carol@outlook.com</td>\n",
       "      <td>outlook.com</td>\n",
       "    </tr>\n",
       "  </tbody>\n",
       "</table>\n",
       "</div>"
      ],
      "text/plain": [
       "               email       domain\n",
       "0    alice@gmail.com    gmail.com\n",
       "1      bob@yahoo.com    yahoo.com\n",
       "2  carol@outlook.com  outlook.com"
      ]
     },
     "execution_count": 19,
     "metadata": {},
     "output_type": "execute_result"
    }
   ],
   "source": [
    "df.head()"
   ]
  },
  {
   "cell_type": "code",
   "execution_count": 20,
   "metadata": {},
   "outputs": [
    {
     "name": "stdout",
     "output_type": "stream",
     "text": [
      "     product_name\n",
      "0    Sony-TV 42\" \n",
      "1  samsung-LED#55\n",
      "2     LG!OLED(65)\n",
      "     product_name    clean_name\n",
      "0    Sony-TV 42\"      Sonytv 42\n",
      "1  samsung-LED#55  Samsungled55\n",
      "2     LG!OLED(65)      Lgoled65\n"
     ]
    }
   ],
   "source": [
    "# Clean and Format Product Names\n",
    "df = pd.DataFrame({'product_name': [' Sony-TV 42\\\" ', 'samsung-LED#55', 'LG!OLED(65)']})\n",
    "print(df)\n",
    "df['clean_name'] = df['product_name'].str.replace(r'[^a-zA-Z0-9 ]', '', regex=True).str.strip().str.title()\n",
    "print(df)\n"
   ]
  },
  {
   "cell_type": "code",
   "execution_count": 21,
   "metadata": {},
   "outputs": [
    {
     "name": "stdout",
     "output_type": "stream",
     "text": [
      "DataEnggRocks123\n"
     ]
    }
   ],
   "source": [
    "import re\n",
    "\n",
    "s = \"Data!@Engg#Rocks-123\"\n",
    "res = re.sub(r'[^a-zA-Z0-9]', '', s)\n",
    "s.strip\n",
    "print(res)"
   ]
  },
  {
   "cell_type": "code",
   "execution_count": 31,
   "metadata": {},
   "outputs": [
    {
     "name": "stdout",
     "output_type": "stream",
     "text": [
      "          name     username\n",
      "0     John Doe     john_doe\n",
      "1  Alice Smith  alice_smith\n",
      "2    Robert jr    robert_jr\n",
      "3    raj Verma    raj_verma\n"
     ]
    }
   ],
   "source": [
    "# Generate Usernames\n",
    "df = pd.DataFrame({'name': ['John Doe', 'Alice Smith', 'Robert jr', 'raj Verma']})\n",
    "df['username'] = df['name'].str.lower().str.replace(' ', '_')\n",
    "print(df)\n"
   ]
  },
  {
   "cell_type": "markdown",
   "metadata": {},
   "source": [
    "### 📅 4. Date Manipulation Examples"
   ]
  },
  {
   "cell_type": "code",
   "execution_count": 37,
   "metadata": {},
   "outputs": [
    {
     "name": "stdout",
     "output_type": "stream",
     "text": [
      "            timestamp\n",
      "0 2025-06-06 08:20:00\n",
      "1 2025-06-06 15:45:00\n",
      "2 2025-06-06 23:10:00\n"
     ]
    }
   ],
   "source": [
    "df = pd.DataFrame({'timestamp': pd.to_datetime(['2025-06-06 8:20', '2025-06-06 15:45', '2025-06-06 23:10'])})\n",
    "print(df)"
   ]
  },
  {
   "cell_type": "code",
   "execution_count": 38,
   "metadata": {},
   "outputs": [
    {
     "name": "stdout",
     "output_type": "stream",
     "text": [
      "            timestamp  hour  minute time_of_day meal_of_the_day\n",
      "0 2025-06-06 08:20:00     8      20     Morning       Breakfast\n",
      "1 2025-06-06 15:45:00    15      45   Afternoon           Lunch\n",
      "2 2025-06-06 23:10:00    23      10     Evening             Tea\n"
     ]
    }
   ],
   "source": [
    "# Classify Time of Day and meal as well \n",
    "\n",
    "\n",
    "df['hour'] = df['timestamp'].dt.hour\n",
    "df['minute'] = df['timestamp'].dt.minute\n",
    "\n",
    "df['time_of_day'] = pd.cut(df['hour'],\n",
    "    bins=[0, 6, 12, 18, 24],\n",
    "    labels=['Night', 'Morning', 'Afternoon', 'Evening']\n",
    ")\n",
    "\n",
    "df['meal_of_the_day'] = pd.cut(df['hour'],\n",
    "    bins=[2, 6, 11, 18, 23, 24],\n",
    "    labels=['Dessert', 'Breakfast', 'Lunch', 'Snacks', 'Tea'],\n",
    "    right=False\n",
    ")\n",
    "\n",
    "print(df)\n"
   ]
  },
  {
   "cell_type": "code",
   "execution_count": 56,
   "metadata": {},
   "outputs": [
    {
     "name": "stdout",
     "output_type": "stream",
     "text": [
      "  order_date  is_weekend\n",
      "0 1947-08-15           4\n",
      "1 2025-06-15           6\n",
      "2 2025-06-07           5\n"
     ]
    }
   ],
   "source": [
    "# Is Weekend?\n",
    "\n",
    "\n",
    "df = pd.DataFrame({'order_date': pd.to_datetime(['1947-08-15', '2025-06-15', '2025-06-07'])})\n",
    "df['is_weekend'] = df['order_date'].dt.weekday\n",
    "\n",
    "print(df)\n",
    "# 0-Mon\n",
    "# 6-Sun\n"
   ]
  },
  {
   "cell_type": "code",
   "execution_count": 3,
   "metadata": {},
   "outputs": [
    {
     "name": "stdout",
     "output_type": "stream",
     "text": [
      "2025-06-21 12:16:39.633654\n",
      "   birthdate next_birthday_1 next_birthday  days_until_birthday\n",
      "0 1990-06-08      2025-06-08    2026-06-08                  351\n",
      "1 1995-11-20      2025-11-20    2025-11-20                  151\n",
      "2 2000-03-15      2025-03-15    2026-03-15                  266\n"
     ]
    }
   ],
   "source": [
    "# Days Until Next Birthday\n",
    "from datetime import datetime\n",
    "\n",
    "today = pd.to_datetime('today')\n",
    "print(\"======\")\n",
    "print(today)\n",
    "print(\"======\")\n",
    "df = pd.DataFrame({'birthdate': pd.to_datetime(['1990-06-08', '1995-11-20', '2000-03-15'])})\n",
    "\n",
    "df['next_birthday_1'] = df['birthdate'].apply(\n",
    "    lambda d: pd.Timestamp(year=today.year, month=d.month, day=d.day)\n",
    ")\n",
    "df['next_birthday'] = df['next_birthday_1'].apply(\n",
    "    lambda d: d if d > today else pd.Timestamp(year=today.year + 1, month=d.month, day=d.day)\n",
    ")\n",
    "df['days_until_birthday'] = (df['next_birthday'] - today).dt.days\n",
    "\n",
    "print(df)\n"
   ]
  },
  {
   "cell_type": "code",
   "execution_count": null,
   "metadata": {},
   "outputs": [],
   "source": []
  }
 ],
 "metadata": {
  "kernelspec": {
   "display_name": "Python 3 (ipykernel)",
   "language": "python",
   "name": "python3"
  },
  "language_info": {
   "codemirror_mode": {
    "name": "ipython",
    "version": 3
   },
   "file_extension": ".py",
   "mimetype": "text/x-python",
   "name": "python",
   "nbconvert_exporter": "python",
   "pygments_lexer": "ipython3",
   "version": "3.9.4"
  }
 },
 "nbformat": 4,
 "nbformat_minor": 4
}
