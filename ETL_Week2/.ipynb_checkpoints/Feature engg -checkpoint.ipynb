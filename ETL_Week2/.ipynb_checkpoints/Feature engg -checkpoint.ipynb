{
 "cells": [
  {
   "cell_type": "code",
   "execution_count": 11,
   "id": "335926ee-e0d2-4ed8-961f-2c18573bce78",
   "metadata": {},
   "outputs": [
    {
     "name": "stdout",
     "output_type": "stream",
     "text": [
      "customer_id       int64\n",
      "last_purchase    object\n",
      "dtype: object\n",
      "   customer_id last_purchase          days_since_last\n",
      "0            1    2024-12-01 195 days 08:40:19.363142\n",
      "1            2    2025-01-15 150 days 08:40:19.363142\n",
      "2            3    2025-06-01  13 days 08:40:19.363142\n",
      "customer_id                  int64\n",
      "last_purchase       datetime64[ns]\n",
      "days_since_last    timedelta64[ns]\n",
      "dtype: object\n"
     ]
    }
   ],
   "source": [
    "# Get Days, since last purchase\n",
    "\n",
    "import pandas as pd\n",
    "\n",
    "df = pd.DataFrame({\n",
    "    'customer_id': [1, 2, 3],\n",
    "    'last_purchase': ['2024-12-01', '2025-01-15', '2025-06-01']\n",
    "})\n",
    "\n",
    "print(df.dtypes)\n",
    "\n",
    "df['last_purchase'] = pd.to_datetime(df['last_purchase'])\n",
    "df['days_since_last'] = (pd.Timestamp.now() - df['last_purchase']).dt.days\n",
    "\n",
    "print(df)\n",
    "print(df.dtypes)"
   ]
  },
  {
   "cell_type": "code",
   "execution_count": 12,
   "id": "47a739d4-f33a-42d9-90c3-f24b4b93a1fc",
   "metadata": {},
   "outputs": [
    {
     "name": "stdout",
     "output_type": "stream",
     "text": [
      "   customer_id signup_date  tenure_months\n",
      "0            1  2022-01-01             42\n",
      "1            2  2023-06-15             24\n",
      "2            3  2024-05-01             13\n",
      "customer_id               int64\n",
      "signup_date      datetime64[ns]\n",
      "tenure_months             int64\n",
      "dtype: object\n",
      "2025-06-14 08:43:01.059135\n",
      "30 days 00:00:00\n"
     ]
    }
   ],
   "source": [
    "# Customer Tenure\n",
    "\n",
    "import pandas as pd\n",
    "\n",
    "data = {\n",
    "    'customer_id': [1, 2, 3],\n",
    "    'signup_date': ['2022-01-01', '2023-06-15', '2024-05-01']\n",
    "}\n",
    "df = pd.DataFrame(data)\n",
    "df['signup_date'] = pd.to_datetime(df['signup_date'])\n",
    "\n",
    "df['tenure_months'] = (pd.Timestamp.now() - df['signup_date']) // pd.Timedelta(days=30)\n",
    "\n",
    "print(df)\n",
    "print(df.dtypes)\n",
    "print(pd.Timestamp.now())\n",
    "print(pd.Timedelta(days=30))"
   ]
  },
  {
   "cell_type": "code",
   "execution_count": 13,
   "id": "9f9a5c54-6d7e-4746-976c-d103e7d39860",
   "metadata": {},
   "outputs": [
    {
     "name": "stdout",
     "output_type": "stream",
     "text": [
      "   customer_id  total_spent  is_high_value\n",
      "0            1         4500          False\n",
      "1            2         7200           True\n",
      "2            3         3000          False\n",
      "customer_id      int64\n",
      "total_spent      int64\n",
      "is_high_value     bool\n",
      "dtype: object\n"
     ]
    }
   ],
   "source": [
    "# Flag High Value customer\n",
    "\n",
    "df = pd.DataFrame({\n",
    "    'customer_id': [1, 2, 3],\n",
    "    'total_spent': [4500, 7200, 3000]\n",
    "})\n",
    "\n",
    "df['is_high_value'] = df['total_spent'] > 5000\n",
    "print(df)\n",
    "print(df.dtypes)\n"
   ]
  },
  {
   "cell_type": "code",
   "execution_count": 6,
   "id": "410a27af-1842-44e6-b68e-8cf4a0319b09",
   "metadata": {},
   "outputs": [
    {
     "name": "stdout",
     "output_type": "stream",
     "text": [
      "   customer_id  total_spent  orders  avg_order_value\n",
      "0            1         5000       5           1000.0\n",
      "1            2        10000      10           1000.0\n",
      "2            3         3000       2           1500.0\n"
     ]
    }
   ],
   "source": [
    "# Average Order Calc\n",
    "\n",
    "df = pd.DataFrame({\n",
    "    'customer_id': [1, 2, 3],\n",
    "    'total_spent': [5000, 10000, 3000],\n",
    "    'orders': [5, 10, 2]\n",
    "})\n",
    "\n",
    "df['avg_order_value'] = df['total_spent'] / df['orders']\n",
    "print(df)\n"
   ]
  },
  {
   "cell_type": "code",
   "execution_count": null,
   "id": "64f1b7ef-7f43-48c5-ba9c-e86b482dbc7d",
   "metadata": {},
   "outputs": [],
   "source": []
  }
 ],
 "metadata": {
  "kernelspec": {
   "display_name": "Python 3 (ipykernel)",
   "language": "python",
   "name": "python3"
  },
  "language_info": {
   "codemirror_mode": {
    "name": "ipython",
    "version": 3
   },
   "file_extension": ".py",
   "mimetype": "text/x-python",
   "name": "python",
   "nbconvert_exporter": "python",
   "pygments_lexer": "ipython3",
   "version": "3.9.4"
  }
 },
 "nbformat": 4,
 "nbformat_minor": 5
}
