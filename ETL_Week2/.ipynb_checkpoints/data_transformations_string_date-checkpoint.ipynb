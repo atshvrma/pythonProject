{
 "cells": [
  {
   "cell_type": "code",
   "execution_count": 6,
   "metadata": {},
   "outputs": [
    {
     "name": "stdout",
     "output_type": "stream",
     "text": [
      "                        email\n",
      "0  alice@gmail.com@gmail2.com\n",
      "1               bob@yahoo.com\n",
      "2           carol@outlook.com\n",
      "                        email      domain\n",
      "0  alice@gmail.com@gmail2.com  gmail2.com\n",
      "1               bob@yahoo.com         NaN\n",
      "2           carol@outlook.com         NaN\n"
     ]
    }
   ],
   "source": [
    "# Extract Email Domain\n",
    "import pandas as pd\n",
    "\n",
    "df = pd.DataFrame({'email': ['alice@gmail.com', 'bob@yahoo.com', 'carol@outlook.com']})\n",
    "print(df)\n",
    "df['domain'] = df['email'].str.split('@').str[1]\n",
    "print(df)\n"
   ]
  },
  {
   "cell_type": "code",
   "execution_count": 2,
   "metadata": {},
   "outputs": [
    {
     "name": "stdout",
     "output_type": "stream",
     "text": [
      "     product_name    clean_name\n",
      "0    Sony-TV 42\"      Sonytv 42\n",
      "1  samsung-LED#55  Samsungled55\n",
      "2     LG!OLED(65)      Lgoled65\n"
     ]
    }
   ],
   "source": [
    "# Clean and Format Product Names\n",
    "df = pd.DataFrame({'product_name': [' Sony-TV 42\\\" ', 'samsung-LED#55', 'LG!OLED(65)']})\n",
    "df['clean_name'] = df['product_name'].str.replace(r'[^a-zA-Z0-9 ]', '', regex=True).str.strip().str.title()\n",
    "print(df)\n"
   ]
  },
  {
   "cell_type": "code",
   "execution_count": 8,
   "metadata": {},
   "outputs": [
    {
     "name": "stdout",
     "output_type": "stream",
     "text": [
      "DataEnggRocks123\n"
     ]
    }
   ],
   "source": [
    "import re\n",
    "\n",
    "s = \"Data!@Engg#Rocks123\"\n",
    "res = re.sub(r'[^a-zA-Z0-9]', '', s)\n",
    "print(res)"
   ]
  },
  {
   "cell_type": "code",
   "execution_count": 3,
   "metadata": {},
   "outputs": [
    {
     "name": "stdout",
     "output_type": "stream",
     "text": [
      "          name     username\n",
      "0     John Doe     john_doe\n",
      "1  Alice Smith  alice_smith\n",
      "2   Robert Jr.   robert_jr.\n"
     ]
    }
   ],
   "source": [
    "# Generate Usernames\n",
    "df = pd.DataFrame({'name': ['John Doe', 'Alice Smith', 'Robert Jr.']})\n",
    "df['username'] = df['name'].str.lower().str.replace(' ', '_')\n",
    "print(df)\n"
   ]
  },
  {
   "cell_type": "markdown",
   "metadata": {},
   "source": [
    "### 📅 4. Date Manipulation Examples"
   ]
  },
  {
   "cell_type": "code",
   "execution_count": 4,
   "metadata": {},
   "outputs": [
    {
     "name": "stdout",
     "output_type": "stream",
     "text": [
      "            timestamp  hour time_of_day\n",
      "0 2025-06-06 08:00:00     8     Morning\n",
      "1 2025-06-06 15:00:00    15   Afternoon\n",
      "2 2025-06-06 22:00:00    22     Evening\n"
     ]
    }
   ],
   "source": [
    "# Classify Time of Day\n",
    "df = pd.DataFrame({'timestamp': pd.to_datetime(['2025-06-06 08:00', '2025-06-06 15:00', '2025-06-06 22:00'])})\n",
    "df['hour'] = df['timestamp'].dt.hour\n",
    "\n",
    "df['time_of_day'] = pd.cut(df['hour'],\n",
    "    bins=[0, 6, 12, 18, 24],\n",
    "    labels=['Night', 'Morning', 'Afternoon', 'Evening'],\n",
    "    right=False\n",
    ")\n",
    "\n",
    "print(df)\n"
   ]
  },
  {
   "cell_type": "code",
   "execution_count": 5,
   "metadata": {},
   "outputs": [
    {
     "name": "stdout",
     "output_type": "stream",
     "text": [
      "  order_date  is_weekend\n",
      "0 2025-06-01        True\n",
      "1 2025-06-03       False\n",
      "2 2025-06-08        True\n"
     ]
    }
   ],
   "source": [
    "# Is Weekend?\n",
    "df = pd.DataFrame({'order_date': pd.to_datetime(['2025-06-01', '2025-06-03', '2025-06-08'])})\n",
    "df['is_weekend'] = df['order_date'].dt.weekday >= 5\n",
    "print(df)\n"
   ]
  },
  {
   "cell_type": "code",
   "execution_count": 6,
   "metadata": {},
   "outputs": [
    {
     "name": "stdout",
     "output_type": "stream",
     "text": [
      "   birthdate next_birthday  days_until_birthday\n",
      "0 1990-06-08    2026-06-08                  364\n",
      "1 1995-11-20    2025-11-20                  164\n",
      "2 2000-03-15    2026-03-15                  279\n"
     ]
    }
   ],
   "source": [
    "# Days Until Next Birthday\n",
    "from datetime import datetime\n",
    "today = pd.to_datetime('today')\n",
    "df = pd.DataFrame({'birthdate': pd.to_datetime(['1990-06-08', '1995-11-20', '2000-03-15'])})\n",
    "\n",
    "df['next_birthday'] = df['birthdate'].apply(\n",
    "    lambda d: pd.Timestamp(year=today.year, month=d.month, day=d.day)\n",
    ")\n",
    "df['next_birthday'] = df['next_birthday'].apply(\n",
    "    lambda d: d if d > today else pd.Timestamp(year=today.year + 1, month=d.month, day=d.day)\n",
    ")\n",
    "df['days_until_birthday'] = (df['next_birthday'] - today).dt.days\n",
    "\n",
    "print(df)\n"
   ]
  },
  {
   "cell_type": "code",
   "execution_count": null,
   "metadata": {},
   "outputs": [],
   "source": []
  }
 ],
 "metadata": {
  "kernelspec": {
   "display_name": "Python 3 (ipykernel)",
   "language": "python",
   "name": "python3"
  },
  "language_info": {
   "codemirror_mode": {
    "name": "ipython",
    "version": 3
   },
   "file_extension": ".py",
   "mimetype": "text/x-python",
   "name": "python",
   "nbconvert_exporter": "python",
   "pygments_lexer": "ipython3",
   "version": "3.9.4"
  }
 },
 "nbformat": 4,
 "nbformat_minor": 4
}
